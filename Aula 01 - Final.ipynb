{
 "cells": [
  {
   "cell_type": "markdown",
   "id": "a1a22087",
   "metadata": {},
   "source": [
    "# Automação de Sistemas e Processos com Python\n",
    "\n",
    "### Desafio:\n",
    "\n",
    "Todos os dias, o nosso sistema atualiza as vendas do dia anterior.\n",
    "O seu trabalho diário, como analista, é enviar um e-mail para a diretoria, assim que começar a trabalhar, com o faturamento e a quantidade de produtos vendidos no dia anterior\n",
    "\n",
    "E-mail da diretoria: seugmail+diretoria@gmail.com<br>\n",
    "Local onde o sistema disponibiliza as vendas do dia anterior: https://drive.google.com/drive/folders/149xknr9JvrlEnhNWO49zPcw0PW5icxga?usp=sharing\n",
    "\n",
    "Para resolver isso, vamos usar o pyautogui, uma biblioteca de automação de comandos do mouse e do teclado\n",
    "\n",
    "Referência do pyautogui: https://pyautogui.readthedocs.io/en/latest/quickstart.html"
   ]
  },
  {
   "cell_type": "code",
   "execution_count": null,
   "id": "6eb115ad",
   "metadata": {
    "scrolled": false
   },
   "outputs": [],
   "source": [
    "!pip install pyautogui"
   ]
  },
  {
   "cell_type": "code",
   "execution_count": 1,
   "id": "f5fad6e5",
   "metadata": {},
   "outputs": [
    {
     "name": "stdout",
     "output_type": "stream",
     "text": [
      "Requirement already satisfied: pyperclip in /Users/barbarabarbosa/opt/anaconda3/lib/python3.9/site-packages (1.8.2)\r\n"
     ]
    }
   ],
   "source": [
    "!pip install pyperclip"
   ]
  },
  {
   "cell_type": "code",
   "execution_count": null,
   "id": "5136152c",
   "metadata": {},
   "outputs": [],
   "source": [
    "import pyautogui\n",
    "import pyperclip\n",
    "import time\n",
    "\n",
    "\n",
    "pyautogui.PAUSE = 1\n",
    "\n",
    "# pyautogui.click -> clicar\n",
    "# pyautogui.press -> apertar 1 tecla\n",
    "# pyautogui.hotkey -> conjunto de teclas\n",
    "# pyautogui.write -> escreve um texto\n",
    "\n",
    "# Passo 1: Entrar no sistema da empresa (no nosso caso é o link do drive)\n",
    "pyautogui.hotkey(\"command\", \"t\")\n",
    "pyperclip.copy(\"https://drive.google.com/drive/folders/149xknr9JvrlEnhNWO49zPcw0PW5icxga?usp=sharing\")\n",
    "pyautogui.hotkey(\"command\", \"v\")\n",
    "pyautogui.press(\"enter\")\n",
    "\n",
    "# pra funcionar esse comando tem que instalar o opencv-python(fim desta página) e ter o print(drive.png) salvo na pasta onde está este arquivo\n",
    "while not pyautogui.locateOnScreen(\"drive.png\", confidence=0.9):\n",
    "    time.sleep(1) # o espaço em tab antes de time é para executar o while not\n",
    "\n",
    "# Passo 2: Navegar no sistema e encontrar a base de vendas (entrar na pasta exportar)\n",
    "pyautogui.click(x=359, y=272, clicks=2)\n",
    "pyautogui.press(\"enter\")\n",
    "time.sleep(2)\n",
    "\n",
    "# Passo 3: Fazer o download da base de vendas\n",
    "pyautogui.click(x=368, y=338) # clicar no arquivo\n",
    "pyautogui.click(x=1234, y=167) # clicar nos 3 pontinhos\n",
    "pyautogui.click(x=995, y=575) # clicar no fazer download ATENÇÃO SALVAMENTO DEVE ESTAR AUMTOMÁTICO\n",
    "time.sleep(5) # esperar o download acabar"
   ]
  },
  {
   "cell_type": "markdown",
   "id": "5bd35a77",
   "metadata": {},
   "source": [
    "### Vamos agora ler o arquivo baixado para pegar os indicadores\n",
    "\n",
    "- Faturamento\n",
    "- Quantidade de Produtos"
   ]
  },
  {
   "cell_type": "code",
   "execution_count": null,
   "id": "72c550a1",
   "metadata": {},
   "outputs": [],
   "source": [
    "# Passo 4: Importar a base de vendas pro Python\n",
    "import pandas as pd\n",
    "\n",
    "tabela = pd.read_excel(r\"/Users/barbarabarbosa/Downloads/Vendas - Dez.xlsx\")\n",
    "display(tabela)"
   ]
  },
  {
   "cell_type": "code",
   "execution_count": null,
   "id": "71016042",
   "metadata": {},
   "outputs": [],
   "source": [
    "# Passo 5: Calcular os indicadores da empresa\n",
    "faturamento = tabela[\"Valor Final\"].sum()\n",
    "print(faturamento)\n",
    "quantidade = tabela[\"Quantidade\"].sum()\n",
    "print(quantidade)"
   ]
  },
  {
   "cell_type": "markdown",
   "id": "5bc685d9",
   "metadata": {},
   "source": [
    "### Vamos agora enviar um e-mail pelo gmail"
   ]
  },
  {
   "cell_type": "code",
   "execution_count": null,
   "id": "1b5ec047",
   "metadata": {},
   "outputs": [],
   "source": [
    "# Passo 6: Enviar um e-mail para a diretoria com os indicadores de venda\n",
    "\n",
    "# abrir aba\n",
    "pyautogui.hotkey(\"command\", \"t\")\n",
    "\n",
    "# entrar no link do email - https://mail.google.com/mail/u/0/#inbox\n",
    "pyperclip.copy(\"https://mail.google.com/mail/u/0/#inbox\")\n",
    "pyautogui.hotkey(\"command\", \"v\")\n",
    "pyautogui.press(\"enter\")\n",
    "time.sleep(7)\n",
    "\n",
    "# clicar no botão escrever\n",
    "pyautogui.click(x=89, y=174)\n",
    "time.sleep(4)\n",
    "\n",
    "# preencher as informações do e-mail\n",
    "pyautogui.write(\"pythonimpressionador@gmail.com\")\n",
    "pyautogui.press(\"tab\") # selecionar o email\n",
    "\n",
    "pyautogui.press(\"tab\") # pular para o campo de assunto\n",
    "pyperclip.copy(\"Relatório de Vendas\")\n",
    "pyautogui.hotkey(\"command\", \"v\")\n",
    "\n",
    "pyautogui.press(\"tab\") # pular para o campo de corpo do email\n",
    "\n",
    "texto = f\"\"\"\n",
    "Prezados,\n",
    "\n",
    "Segue relatório de vendas.\n",
    "Faturamento: R${faturamento:,.2f}\n",
    "Quantidade de produtos vendidos: {quantidade:,}\n",
    "\n",
    "Qualquer dúvida estou à disposição.\n",
    "Att.,\n",
    "Lira do Python\n",
    "\"\"\"\n",
    "\n",
    "# formatação dos números (moeda, dinheiro)\n",
    "\n",
    "pyperclip.copy(texto)\n",
    "pyautogui.hotkey(\"command\", \"v\")\n",
    "\n",
    "# anexar um arquivo\n",
    "pyautogui.click(x=935, y=863)\n",
    "time.sleep(2)\n",
    "pyautogui.write(\"vendas\") # comando aperfeiçoado por mim para mac, não é o mesmo do windows\n",
    "pyautogui.press(\"enter\")\n",
    "\n",
    "time.sleep(5)\n",
    "\n",
    "# enviar o e-mail\n",
    "pyautogui.hotkey(\"command\", \"enter\")"
   ]
  },
  {
   "cell_type": "markdown",
   "id": "a4914234",
   "metadata": {},
   "source": [
    "#### Use esse código para descobrir qual a posição de um item que queira clicar\n",
    "\n",
    "- Lembre-se: a posição na sua tela é diferente da posição na minha tela"
   ]
  },
  {
   "cell_type": "code",
   "execution_count": null,
   "id": "71893478",
   "metadata": {
    "scrolled": true
   },
   "outputs": [],
   "source": [
    "# Use esse código para descobrir qual a posição de um item que queira clicar.\n",
    "# Lembre-se: a posição na sua tela é diferente da posição na minha tela\n",
    "\n",
    "time.sleep(5)\n",
    "pyautogui.position()"
   ]
  },
  {
   "cell_type": "code",
   "execution_count": null,
   "id": "f8b21bfc",
   "metadata": {},
   "outputs": [],
   "source": [
    "!pip install opencv-python"
   ]
  }
 ],
 "metadata": {
  "kernelspec": {
   "display_name": "Python 3 (ipykernel)",
   "language": "python",
   "name": "python3"
  },
  "language_info": {
   "codemirror_mode": {
    "name": "ipython",
    "version": 3
   },
   "file_extension": ".py",
   "mimetype": "text/x-python",
   "name": "python",
   "nbconvert_exporter": "python",
   "pygments_lexer": "ipython3",
   "version": "3.9.12"
  },
  "widgets": {
   "application/vnd.jupyter.widget-state+json": {
    "state": {},
    "version_major": 2,
    "version_minor": 0
   }
  }
 },
 "nbformat": 4,
 "nbformat_minor": 5
}
